{
  "cells": [
    {
      "cell_type": "code",
      "execution_count": 43,
      "metadata": {
        "id": "-423LuHizYK5"
      },
      "outputs": [],
      "source": [
        "import pandas as pd\n",
        "import numpy as np\n",
        "import matplotlib.pyplot as plt\n",
        "from sklearn.preprocessing import MinMaxScaler\n",
        "from tensorflow.keras.models import Sequential\n",
        "from tensorflow.keras.layers import LSTM,Dense,Dropout\n",
        "import torch.nn as nn\n",
        "import torch.optim as optim\n",
        "from sklearn.model_selection import train_test_split\n",
        "from sklearn.metrics import mean_squared_error\n",
        "import random\n",
        "import torch\n"
      ]
    },
    {
      "cell_type": "code",
      "execution_count": 44,
      "metadata": {
        "colab": {
          "base_uri": "https://localhost:8080/"
        },
        "id": "KAfta-yOzmOa",
        "outputId": "2dca314c-ad48-4b09-dff1-622ef8f48615"
      },
      "outputs": [
        {
          "name": "stdout",
          "output_type": "stream",
          "text": [
            "Drive already mounted at /content/drive; to attempt to forcibly remount, call drive.mount(\"/content/drive\", force_remount=True).\n"
          ]
        }
      ],
      "source": [
        "from google.colab import drive\n",
        "drive.mount('/content/drive')"
      ]
    },
    {
      "cell_type": "code",
      "execution_count": 45,
      "metadata": {
        "id": "YB-p5gBC0GHG"
      },
      "outputs": [],
      "source": [
        "df = pd.read_csv('/content/drive/MyDrive/FinSearch/Stock_Data.csv')"
      ]
    },
    {
      "cell_type": "code",
      "execution_count": 50,
      "metadata": {
        "id": "lAIyR_oJ5BSf"
      },
      "outputs": [],
      "source": [
        "train_data  = pd.read_csv('/content/drive/MyDrive/FinSearch/NIFTY_50.csv')\n",
        "train_prices = train_data['Close'].values.reshape(-1,1)\n",
        "\n",
        "test_data = pd.read_csv('/content/drive/MyDrive/FinSearch/NIFTY 50-13-08-2023-to-13-08-2024.csv')\n",
        "test_data.columns = test_data.columns.str.strip()\n",
        "test_prices = test_data['Close'].values.reshape(-1,1)"
      ]
    },
    {
      "cell_type": "code",
      "execution_count": 52,
      "metadata": {
        "id": "e1dqc8sx5BVh"
      },
      "outputs": [],
      "source": [
        "#Normalizing the data\n",
        "scaler = MinMaxScaler()\n",
        "scaled_train_prices = scaler.fit_transform(train_prices)\n",
        "scaled_test_prices = scaler.fit_transform(test_prices)\n",
        "\n",
        "#Defining the lengths\n",
        "len_train_prices = len(scaled_train_prices)\n",
        "len_test_prices = len(scaled_test_prices)\n",
        "\n",
        "##LSTM Training\n",
        "\n",
        "window_size = 3\n",
        "X_train,Y_train = [],[]\n",
        "X_test,Y_test= [],[]\n",
        "\n",
        "#Creating the data for training\n",
        "\n",
        "for i in range(len_train_prices - window_size):\n",
        "  X_train.append(scaled_train_prices[i:i+window_size])\n",
        "  Y_train.append(scaled_train_prices[i + window_size])\n",
        "\n",
        "#Creating Test Data\n",
        "for i in range(len_test_prices - window_size):\n",
        "  X_test.append(scaled_test_prices[i:i+window_size])\n",
        "  Y_test.append(scaled_test_prices[i+window_size])\n",
        "\n",
        "#Converting the arrays into NumPy arrays\n",
        "X_train = np.array(X_train)\n",
        "Y_train = np.array(Y_train)\n",
        "X_test = np.array(X_test)\n",
        "Y_test = np.array(Y_test)\n",
        "\n"
      ]
    },
    {
      "cell_type": "code",
      "execution_count": null,
      "metadata": {
        "colab": {
          "base_uri": "https://localhost:8080/"
        },
        "id": "dfLdaAG95BYD",
        "outputId": "60810b30-7aba-4dea-b9b5-e3f0a0ccc04f"
      },
      "outputs": [],
      "source": [
        "# Building the LSTM model\n",
        "model = Sequential([\n",
        "    LSTM(units=50, activation='relu', input_shape=(window_size, 1)),\n",
        "    Dense(units=1)\n",
        "])\n",
        "\n",
        "model.compile(optimizer='adam', loss='mean_squared_error')"
      ]
    },
    {
      "cell_type": "code",
      "execution_count": null,
      "metadata": {
        "colab": {
          "base_uri": "https://localhost:8080/"
        },
        "id": "BYCE4mTA5BaJ",
        "outputId": "e6356963-2d75-4d4a-97a6-d8777053320e"
      },
      "outputs": [],
      "source": [
        "# Train the model\n",
        "model.fit(X_train, Y_train, epochs=45, batch_size=32)"
      ]
    },
    {
      "cell_type": "code",
      "execution_count": null,
      "metadata": {
        "colab": {
          "base_uri": "https://localhost:8080/"
        },
        "id": "kWAps9Mz5Bcx",
        "outputId": "f33ad67e-988a-4a39-bd7f-242d9d56d436"
      },
      "outputs": [],
      "source": [
        "# Make predictions\n",
        "train_predictions = model.predict(X_train)\n",
        "test_predictions = model.predict(X_test)"
      ]
    },
    {
      "cell_type": "code",
      "execution_count": 56,
      "metadata": {
        "id": "SQlIAEHO5Be8"
      },
      "outputs": [],
      "source": [
        "# Inverse transform the scaled predictions to get actual prices\n",
        "actual_train_predictions = scaler.inverse_transform(train_predictions)\n",
        "actual_test_predictions = scaler.inverse_transform(test_predictions)"
      ]
    },
    {
      "cell_type": "code",
      "execution_count": null,
      "metadata": {
        "colab": {
          "base_uri": "https://localhost:8080/"
        },
        "id": "zrwFVjgc5Bh2",
        "outputId": "e2731fed-7297-4eb8-feee-e1e253f83235"
      },
      "outputs": [],
      "source": [
        "# Calculate returns and risks\n",
        "test_returns = np.diff(actual_test_predictions, axis=0) / actual_test_predictions[:-1]\n",
        "average_return = np.mean(test_returns)\n",
        "total_return = float((actual_test_predictions[-1] - actual_test_predictions[0]) / actual_test_predictions[0])\n",
        "risk = np.std(test_returns)"
      ]
    },
    {
      "cell_type": "code",
      "execution_count": 58,
      "metadata": {
        "colab": {
          "base_uri": "https://localhost:8080/"
        },
        "id": "87az7CaJ5Bjz",
        "outputId": "a570df7e-f11c-4bd2-9f9f-eeaae03d2ffe"
      },
      "outputs": [
        {
          "name": "stdout",
          "output_type": "stream",
          "text": [
            "For the model made by using LSTM, we get :- \n",
            "Average_Return: 0.0009\n",
            "Total_Return: 0.2529\n",
            "Risk (Standard Deviation of Returns): 0.0046\n",
            "\n"
          ]
        }
      ],
      "source": [
        "# Print return and risk metrics\n",
        "print(\"For the model made by using LSTM, we get :- \")\n",
        "print(f\"Average_Return: {average_return:.4f}\")\n",
        "print(f\"Total_Return: {total_return:.4f}\")\n",
        "print(f\"Risk (Standard Deviation of Returns): {risk:.4f}\")\n",
        "print(\"\")"
      ]
    },
    {
      "cell_type": "code",
      "execution_count": 59,
      "metadata": {
        "id": "7gNaqhd35Bl6"
      },
      "outputs": [],
      "source": [
        "initial_investment = 10000\n",
        "investment = np.float128(investment)\n",
        "investment = np.float128(initial_investment)\n",
        "\n",
        "\n",
        "lstm_profit = []\n",
        "actions = []\n",
        "\n",
        "#Calculating the lengths of actual predictions\n",
        "len_actual_test_predictions = len(actual_test_predictions)\n",
        "\n",
        "#The action Space :\n",
        "# Buy = 1, Sell = -1 and Hold = 0\n",
        "\n",
        "for i in range(1,len_actual_test_predictions):\n",
        "      delta = ((actual_test_predictions[i] - actual_test_predictions[i-1])/actual_test_predictions[i-1])\n",
        "\n",
        "      #Choosing the action\n",
        "      if delta > 0:\n",
        "        action = 1 #Buying the Stock\n",
        "      elif delta ==0:\n",
        "        action = 0 #Holding the Stock\n",
        "      else:\n",
        "        action = -1 #Selling the stock\n",
        "      actions.append(action)\n",
        "      investment *= (1 + delta)\n",
        "      profit = investment - initial_investment\n",
        "      lstm_profit.append(profit)"
      ]
    },
    {
      "cell_type": "code",
      "execution_count": 62,
      "metadata": {
        "id": "Z6bmGlKj5Boo"
      },
      "outputs": [],
      "source": [
        "#Profits accumulated over time\n",
        "accumulated_lstm_profits = []\n",
        "current_profit = initial_investment\n",
        "\n",
        "for values in lstm_profit:\n",
        "  current_profit += values\n",
        "  accumulated_lstm_profits.append(current_profit[0])"
      ]
    },
    {
      "cell_type": "code",
      "execution_count": 63,
      "metadata": {
        "id": "rmGVKbWO5Bq3"
      },
      "outputs": [],
      "source": [
        "#Normalizing the Data\n",
        "train_scaler = MinMaxScaler()\n",
        "test_scaler = MinMaxScaler()\n",
        "\n",
        "normalized_train_data = train_scaler.fit_transform(train_data.iloc[:,4].values.reshape(-1,1))\n",
        "normalized_test_data = test_scaler.fit_transform(test_data.iloc[:,4].values.reshape(-1,1))"
      ]
    },
    {
      "cell_type": "code",
      "execution_count": 64,
      "metadata": {
        "id": "0seEyC7h5Bsl"
      },
      "outputs": [],
      "source": [
        "#State Function\n",
        "def get_state(state_index,data):\n",
        "  lookback_window = 5\n",
        "  start_index = max(0,state_index - lookback_window)\n",
        "  end_index = state_index + 1\n",
        "  state = data[start_index : end_index].flatten()\n",
        "  return state"
      ]
    },
    {
      "cell_type": "code",
      "execution_count": 65,
      "metadata": {
        "colab": {
          "base_uri": "https://localhost:8080/"
        },
        "id": "EB1F1cmk5BwC",
        "outputId": "6769b56a-2573-4760-a959-7554c0728486"
      },
      "outputs": [
        {
          "name": "stderr",
          "output_type": "stream",
          "text": [
            "<ipython-input-65-44e8ef938ae2>:12: UserWarning: nn.init.xavier_uniform is now deprecated in favor of nn.init.xavier_uniform_.\n",
            "  nn.init.xavier_uniform(Q_table)\n"
          ]
        },
        {
          "data": {
            "text/plain": [
              "tensor([[ 0.0284, -0.0022],\n",
              "        [ 0.0154,  0.0091],\n",
              "        [ 0.0490,  0.0124],\n",
              "        ...,\n",
              "        [ 0.0169, -0.0272],\n",
              "        [-0.0222,  0.0251],\n",
              "        [-0.0032, -0.0178]])"
            ]
          },
          "execution_count": 65,
          "metadata": {},
          "output_type": "execute_result"
        }
      ],
      "source": [
        "#Defining the Actions\n",
        "num_actions = 2\n",
        "actions = {0:'Hold',1:'Buy'}\n",
        "\n",
        "#Defining the Q-Table for storing the Q-values for each state-action pair\n",
        "\n",
        "num_train_states = normalized_train_data.shape[0]\n",
        "num_test_states = normalized_test_data.shape[0]\n",
        "Q_table = torch.zeros((num_train_states,num_actions))\n",
        "\n",
        "#Initializing the Q Table with random values\n",
        "nn.init.xavier_uniform(Q_table)"
      ]
    },
    {
      "cell_type": "code",
      "execution_count": 66,
      "metadata": {
        "id": "il2QPu73krlb"
      },
      "outputs": [],
      "source": [
        "#Defining the Epsilon Greedy policy\n",
        "def epsilon_greedy(state,Q_table,epsilon):\n",
        "  if random.random() < epsilon:\n",
        "    action = random.randint(0,num_actions - 1)\n",
        "  else:\n",
        "    action = torch.argmax(Q_table[state])\n",
        "  return action"
      ]
    },
    {
      "cell_type": "code",
      "execution_count": 67,
      "metadata": {
        "id": "_hnOFtAhkrox"
      },
      "outputs": [],
      "source": [
        "#Bellman Equation\n",
        "def bellman(state,action,reward,next_state_index,Q_table):\n",
        "  if next_state_index < num_train_states:\n",
        "    next_state = torch.tensor([next_state_index])\n",
        "    target = reward + gamma*torch.max(Q_table[next_state])\n",
        "  else:\n",
        "     target = reward\n",
        "  Q_table[state,action] = target"
      ]
    },
    {
      "cell_type": "code",
      "execution_count": 68,
      "metadata": {
        "id": "piuXGHG9krrV"
      },
      "outputs": [],
      "source": [
        "#Training the RL model\n",
        "epochs = 25\n",
        "epsilon = 1.0\n",
        "gamma = 0.95\n",
        "replay_buffer = []\n",
        "batch_size = 32\n",
        "target_update_frequency = 10\n",
        "target_q_table = Q_table.clone()\n",
        "\n",
        "for i in range(epochs):\n",
        "      for state in range(num_train_states - 1):\n",
        "        current_state = get_state(state,normalized_train_data)\n",
        "        action = epsilon_greedy(state, Q_table,epsilon)\n",
        "        reward = normalized_train_data[state + 1].item()\n",
        "        next_state_index = state + 1\n",
        "        bellman(current_state,action,reward,next_state_index,Q_table)\n",
        "\n",
        "        #Saving the experiences in Replay Buffer\n",
        "        replay_buffer.append((current_state,action,reward,next_state_index))\n",
        "\n",
        "        #Performing experience replay\n",
        "        if len(replay_buffer) >= batch_size:\n",
        "          batch = random.sample(replay_buffer,batch_size)\n",
        "          for batch_current_state,batch_action,batch_reward,batch_next_state_index in batch:\n",
        "            bellman(batch_current_state,batch_action,batch_reward,batch_next_state_index,Q_table)\n",
        "\n",
        "      #Updating target Q-Table\n",
        "      if i%target_update_frequency == 0:\n",
        "        target_q_table = Q_table.clone()\n",
        "\n",
        "      #Decay Epsilon\n",
        "      epsilon *= 0.70"
      ]
    },
    {
      "cell_type": "code",
      "execution_count": 69,
      "metadata": {
        "id": "hwf48Iat5Uax"
      },
      "outputs": [],
      "source": [
        "#Testing the model\n",
        "shares  = 0\n",
        "portfolio = 10000\n",
        "profits = []\n",
        "returns = []\n",
        "risks = []\n",
        "\n",
        "for state in range(num_test_states - 1):\n",
        "  current_state = get_state(state,scaled_test_prices)\n",
        "  action = torch.argmax(Q_table[state])\n",
        "  if action == 1:\n",
        "    shares += 1\n",
        "  profit = scaler.inverse_transform([normalized_test_data[state + 1]])*shares - portfolio\n",
        "  price_ratio = scaler.inverse_transform(normalized_test_data[state + 1].reshape(1,-1))/scaler.inverse_transform(normalized_test_data[state].reshape(1,-1))\n",
        "  return_on_investment = (price_ratio*shares)\n",
        "  risk = ((return_on_investment - portfolio)/portfolio)\n",
        "\n",
        "  profits.append(profit)\n",
        "  returns.append(price_ratio)\n",
        "  risks.append(risk)"
      ]
    },
    {
      "cell_type": "code",
      "execution_count": 70,
      "metadata": {
        "id": "Pg-gM0xk5UfN"
      },
      "outputs": [],
      "source": [
        "#Flattening the profits list\n",
        "flat_profits = [item for sublist in profits for item in sublist]"
      ]
    },
    {
      "cell_type": "code",
      "execution_count": null,
      "metadata": {
        "colab": {
          "base_uri": "https://localhost:8080/"
        },
        "id": "vG_dQFTp5Uic",
        "outputId": "56018385-bd7e-46dc-de10-b4b55bec0948"
      },
      "outputs": [],
      "source": [
        "average_return = float(sum(returns)/len(returns))\n",
        "total_profits = float(sum(profits))\n",
        "total_risk = float(sum([abs(risk) for risk in risks]))\n",
        "average_risk = float(total_risk/len(risks))"
      ]
    },
    {
      "cell_type": "code",
      "execution_count": 72,
      "metadata": {
        "colab": {
          "base_uri": "https://localhost:8080/"
        },
        "id": "JfFEIUkfi75t",
        "outputId": "6e7ae272-504b-4c75-fdbe-98fed2097f48"
      },
      "outputs": [
        {
          "name": "stdout",
          "output_type": "stream",
          "text": [
            "The values that are calculated are as follows : \n",
            "Average Return : 1.0009\n",
            "Total Profits : 389179625.6500\n",
            "Total Risk : 245.2682\n",
            "Average Risk : 0.9930\n"
          ]
        }
      ],
      "source": [
        "#Printing the required values\n",
        "print(\"The values that are calculated are as follows : \")\n",
        "print(f\"Average Return : {average_return:.4f}\")\n",
        "print(f\"Total Profits : {total_profits:.4f}\")\n",
        "print(f\"Total Risk : {total_risk:.4f}\")\n",
        "print(f\"Average Risk : {average_risk:.4f}\")"
      ]
    },
    {
      "cell_type": "code",
      "execution_count": 73,
      "metadata": {
        "colab": {
          "base_uri": "https://localhost:8080/",
          "height": 733
        },
        "id": "VKvoOkYQi8Ad",
        "outputId": "d729f22e-dd23-4731-a153-dff0d6972023"
      },
      "outputs": [
        {
          "data": {
            "image/png": "[encoded data removed]",
            "text/plain": [
              "<Figure size 1600x800 with 1 Axes>"
            ]
          },
          "metadata": {},
          "output_type": "display_data"
        }
      ],
      "source": [
        "plt.figure(figsize=(16,8))\n",
        "plt.plot(flat_profits,label = 'Reinforcement Learning Model Profits',color = 'red')\n",
        "plt.plot(accumulated_lstm_profits,label = 'LSTM Profits',color = 'green')\n",
        "plt.axhline(y=0, color = 'black', linestyle = '-',label = 'Break-Even Line')\n",
        "plt.xlabel('Time')\n",
        "plt.ylabel('Accumuated Profits')\n",
        "plt.title('Comparison of the Final Profits Accumulated over time : Reinforcement Learning Agent v/s LSTM model')\n",
        "plt.xticks(rotation=45)\n",
        "plt.legend()\n",
        "plt.grid(True)\n",
        "plt.show()"
      ]
    }
  ],
  "metadata": {
    "colab": {
      "provenance": []
    },
    "kernelspec": {
      "display_name": "Python 3",
      "name": "python3"
    },
    "language_info": {
      "name": "python"
    }
  },
  "nbformat": 4,
  "nbformat_minor": 0
}
